{
 "cells": [
  {
   "cell_type": "code",
   "execution_count": 1,
   "id": "08f2acf4",
   "metadata": {},
   "outputs": [],
   "source": [
    "import random\n",
    "\n",
    "class BinarySearchTree:\n",
    "  def __init__(self, value, depth=1):\n",
    "    self.value = value\n",
    "    self.depth = depth\n",
    "    self.left = None\n",
    "    self.right = None\n",
    "\n",
    "  def insert(self, value):\n",
    "    if (value < self.value):\n",
    "      if (self.left is None):\n",
    "        self.left = BinarySearchTree(value, self.depth + 1)\n",
    "        print(f'Tree node {value} added to the left of {self.value} at depth {self.depth + 1}')\n",
    "      else:\n",
    "        self.left.insert(value)\n",
    "    else:\n",
    "      if (self.right is None):\n",
    "        self.right = BinarySearchTree(value, self.depth + 1)\n",
    "        print(f'Tree node {value} added to the right of {self.value} at depth {self.depth + 1}')\n",
    "      else:\n",
    "        self.right.insert(value)\n",
    "        \n",
    "  def get_node_by_value(self, value):\n",
    "    if (self.value == value):\n",
    "      return self\n",
    "    elif ((self.left is not None) and (value < self.value)):\n",
    "      return self.left.get_node_by_value(value)\n",
    "    elif ((self.right is not None) and (value >= self.value)):\n",
    "      return self.right.get_node_by_value(value)\n",
    "    else:\n",
    "      return None\n",
    "  \n",
    "  def depth_first_traversal(self):\n",
    "    if (self.left is not None):\n",
    "      self.left.depth_first_traversal()\n",
    "    print(f'Depth={self.depth}, Value={self.value}')\n",
    "    if (self.right is not None):\n",
    "      self.right.depth_first_traversal()"
   ]
  },
  {
   "cell_type": "code",
   "execution_count": 2,
   "id": "0c635969",
   "metadata": {},
   "outputs": [
    {
     "name": "stdout",
     "output_type": "stream",
     "text": [
      "Creating Binary Search Tree rooted at value 15:\n",
      "Tree node 17 added to the right of 15 at depth 2\n",
      "Tree node 71 added to the right of 17 at depth 3\n",
      "Tree node 56 added to the left of 71 at depth 4\n",
      "Tree node 100 added to the right of 71 at depth 4\n",
      "Tree node 2 added to the left of 15 at depth 2\n",
      "Tree node 16 added to the left of 17 at depth 3\n",
      "Tree node 50 added to the left of 56 at depth 5\n",
      "Tree node 85 added to the left of 100 at depth 5\n",
      "Tree node 35 added to the left of 50 at depth 6\n",
      "Tree node 53 added to the right of 50 at depth 6\n",
      "Printing the inorder depth-first traversal:\n",
      "Depth=2, Value=2\n",
      "Depth=1, Value=15\n",
      "Depth=3, Value=16\n",
      "Depth=2, Value=17\n",
      "Depth=6, Value=35\n",
      "Depth=5, Value=50\n",
      "Depth=6, Value=53\n",
      "Depth=4, Value=56\n",
      "Depth=3, Value=71\n",
      "Depth=5, Value=85\n",
      "Depth=4, Value=100\n"
     ]
    }
   ],
   "source": [
    "print(\"Creating Binary Search Tree rooted at value 15:\")\n",
    "tree = BinarySearchTree(15)\n",
    "\n",
    "for x in range(10):\n",
    "  tree.insert(random.randint(0, 100))\n",
    "  \n",
    "print(\"Printing the inorder depth-first traversal:\")\n",
    "tree.depth_first_traversal()"
   ]
  },
  {
   "cell_type": "code",
   "execution_count": null,
   "id": "4a97547b",
   "metadata": {},
   "outputs": [],
   "source": []
  }
 ],
 "metadata": {
  "kernelspec": {
   "display_name": "Python 3 (ipykernel)",
   "language": "python",
   "name": "python3"
  },
  "language_info": {
   "codemirror_mode": {
    "name": "ipython",
    "version": 3
   },
   "file_extension": ".py",
   "mimetype": "text/x-python",
   "name": "python",
   "nbconvert_exporter": "python",
   "pygments_lexer": "ipython3",
   "version": "3.11.5"
  }
 },
 "nbformat": 4,
 "nbformat_minor": 5
}
